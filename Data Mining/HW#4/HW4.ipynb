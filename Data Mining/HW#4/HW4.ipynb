{
 "cells": [
  {
   "cell_type": "code",
   "execution_count": 1,
   "metadata": {},
   "outputs": [],
   "source": [
    "from spmf import Spmf"
   ]
  },
  {
   "cell_type": "code",
   "execution_count": 2,
   "metadata": {},
   "outputs": [
    {
     "ename": "FileNotFoundError",
     "evalue": "spmf.jar not found. Please use the spmf_bin_location_dir argument.",
     "output_type": "error",
     "traceback": [
      "\u001b[1;31m---------------------------------------------------------------------------\u001b[0m",
      "\u001b[1;31mFileNotFoundError\u001b[0m                         Traceback (most recent call last)",
      "\u001b[1;32mc:\\Users\\romin\\OneDrive\\دسکتاپ\\Romina\\Doc\\M.s\\Data Mining\\HW\\HW4\\HW4.ipynb Cell 2\u001b[0m line \u001b[0;36m<cell line: 1>\u001b[1;34m()\u001b[0m\n\u001b[1;32m----> <a href='vscode-notebook-cell:/c%3A/Users/romin/OneDrive/%D8%AF%D8%B3%DA%A9%D8%AA%D8%A7%D9%BE/Romina/Doc/M.s/Data%20Mining/HW/HW4/HW4.ipynb#W1sZmlsZQ%3D%3D?line=0'>1</a>\u001b[0m spmf \u001b[39m=\u001b[39m Spmf(\u001b[39m\"\u001b[39;49m\u001b[39mPrefixSpan\u001b[39;49m\u001b[39m\"\u001b[39;49m, input_filename\u001b[39m=\u001b[39;49m\u001b[39m\"\u001b[39;49m\u001b[39mfruithut_original.txt\u001b[39;49m\u001b[39m\"\u001b[39;49m,\n\u001b[0;32m      <a href='vscode-notebook-cell:/c%3A/Users/romin/OneDrive/%D8%AF%D8%B3%DA%A9%D8%AA%D8%A7%D9%BE/Romina/Doc/M.s/Data%20Mining/HW/HW4/HW4.ipynb#W1sZmlsZQ%3D%3D?line=1'>2</a>\u001b[0m             output_filename\u001b[39m=\u001b[39;49m\u001b[39m\"\u001b[39;49m\u001b[39moutput.txt\u001b[39;49m\u001b[39m\"\u001b[39;49m, arguments\u001b[39m=\u001b[39;49m[\u001b[39m0.7\u001b[39;49m, \u001b[39m5\u001b[39;49m])\n\u001b[0;32m      <a href='vscode-notebook-cell:/c%3A/Users/romin/OneDrive/%D8%AF%D8%B3%DA%A9%D8%AA%D8%A7%D9%BE/Romina/Doc/M.s/Data%20Mining/HW/HW4/HW4.ipynb#W1sZmlsZQ%3D%3D?line=2'>3</a>\u001b[0m spmf\u001b[39m.\u001b[39mrun()\n\u001b[0;32m      <a href='vscode-notebook-cell:/c%3A/Users/romin/OneDrive/%D8%AF%D8%B3%DA%A9%D8%AA%D8%A7%D9%BE/Romina/Doc/M.s/Data%20Mining/HW/HW4/HW4.ipynb#W1sZmlsZQ%3D%3D?line=3'>4</a>\u001b[0m \u001b[39mprint\u001b[39m(spmf\u001b[39m.\u001b[39mto_pandas_dataframe(pickle\u001b[39m=\u001b[39m\u001b[39mTrue\u001b[39;00m))\n",
      "File \u001b[1;32mc:\\Users\\romin\\anaconda3\\lib\\site-packages\\spmf\\__init__.py:42\u001b[0m, in \u001b[0;36mSpmf.__init__\u001b[1;34m(self, algorithm_name, input_direct, input_type, input_filename, output_filename, arguments, spmf_bin_location_dir, memory)\u001b[0m\n\u001b[0;32m     38\u001b[0m     \u001b[39mself\u001b[39m\u001b[39m.\u001b[39mis_exist_executable_ \u001b[39m=\u001b[39m os\u001b[39m.\u001b[39mpath\u001b[39m.\u001b[39misfile(\n\u001b[0;32m     39\u001b[0m         os\u001b[39m.\u001b[39mpath\u001b[39m.\u001b[39mjoin(\u001b[39mself\u001b[39m\u001b[39m.\u001b[39mexecutable_dir_, \u001b[39mself\u001b[39m\u001b[39m.\u001b[39mexecutable_))\n\u001b[0;32m     41\u001b[0m \u001b[39mif\u001b[39;00m \u001b[39mnot\u001b[39;00m \u001b[39mself\u001b[39m\u001b[39m.\u001b[39mis_exist_executable_:\n\u001b[1;32m---> 42\u001b[0m     \u001b[39mraise\u001b[39;00m \u001b[39mFileNotFoundError\u001b[39;00m(\u001b[39mself\u001b[39m\u001b[39m.\u001b[39mexecutable_ \u001b[39m+\u001b[39m \u001b[39m\"\u001b[39m\u001b[39m not found. Please\u001b[39m\u001b[39m\"\u001b[39m \u001b[39m+\u001b[39m\n\u001b[0;32m     43\u001b[0m                             \u001b[39m\"\u001b[39m\u001b[39m use the spmf_bin_location_dir argument.\u001b[39m\u001b[39m\"\u001b[39m)\n\u001b[0;32m     45\u001b[0m \u001b[39mself\u001b[39m\u001b[39m.\u001b[39magorithm_name_ \u001b[39m=\u001b[39m algorithm_name\n\u001b[0;32m     46\u001b[0m \u001b[39mself\u001b[39m\u001b[39m.\u001b[39minput_ \u001b[39m=\u001b[39m \u001b[39mself\u001b[39m\u001b[39m.\u001b[39mhandle_input(\n\u001b[0;32m     47\u001b[0m     input_direct, input_filename, input_type)\n",
      "\u001b[1;31mFileNotFoundError\u001b[0m: spmf.jar not found. Please use the spmf_bin_location_dir argument."
     ]
    }
   ],
   "source": [
    "spmf = Spmf(\"PrefixSpan\", input_filename=\"fruithut_original.txt\",\n",
    "            output_filename=\"output.txt\", arguments=[0.7, 5])\n",
    "spmf.run()\n",
    "print(spmf.to_pandas_dataframe(pickle=True))\n",
    "spmf.to_csv(\"output.csv\")"
   ]
  },
  {
   "cell_type": "code",
   "execution_count": null,
   "metadata": {},
   "outputs": [],
   "source": []
  }
 ],
 "metadata": {
  "kernelspec": {
   "display_name": "base",
   "language": "python",
   "name": "python3"
  },
  "language_info": {
   "codemirror_mode": {
    "name": "ipython",
    "version": 3
   },
   "file_extension": ".py",
   "mimetype": "text/x-python",
   "name": "python",
   "nbconvert_exporter": "python",
   "pygments_lexer": "ipython3",
   "version": "0.0.0"
  }
 },
 "nbformat": 4,
 "nbformat_minor": 2
}

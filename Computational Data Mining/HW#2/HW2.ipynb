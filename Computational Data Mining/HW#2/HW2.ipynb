{
 "cells": [
  {
   "cell_type": "code",
   "execution_count": 3,
   "metadata": {},
   "outputs": [],
   "source": [
    "\n",
    "import numpy as np\n",
    "import os\n",
    "import cv2\n",
    "from scipy.spatial.distance import cdist, euclidean\n",
    "from sklearn.metrics import accuracy_score, confusion_matrix, roc_auc_score\n",
    "import pandas as pd\n"
   ]
  },
  {
   "cell_type": "code",
   "execution_count": 4,
   "metadata": {},
   "outputs": [],
   "source": [
    "def load_local_data(data_path):\n",
    "    images = {}\n",
    "\n",
    "    for label in range(10):\n",
    "        images[label] = []\n",
    "\n",
    "        folder_path = os.path.join(data_path, str(label))\n",
    "        file_names = os.listdir(folder_path)\n",
    "\n",
    "        for file_name in file_names:\n",
    "            image_path = os.path.join(folder_path, file_name)\n",
    "            image = cv2.imread(image_path, cv2.IMREAD_GRAYSCALE)\n",
    "\n",
    "            if image is not None:\n",
    "                # Resize the image to a consistent size if needed\n",
    "                # image = cv2.resize(image, (desired_width, desired_height))\n",
    "\n",
    "                images[label].append(image.flatten())\n",
    "\n",
    "    return images\n",
    "\n"
   ]
  },
  {
   "cell_type": "code",
   "execution_count": 5,
   "metadata": {},
   "outputs": [
    {
     "name": "stdout",
     "output_type": "stream",
     "text": [
      "Number 0: 400 images\n",
      "Number 1: 400 images\n",
      "Number 2: 400 images\n",
      "Number 3: 400 images\n",
      "Number 4: 400 images\n",
      "Number 5: 400 images\n",
      "Number 6: 400 images\n",
      "Number 7: 400 images\n",
      "Number 8: 400 images\n",
      "Number 9: 400 images\n"
     ]
    }
   ],
   "source": [
    "data_path = 'TinyMNIST_2/TinyMNIST/train/'\n",
    "images = load_local_data(data_path)\n",
    "\n",
    "for label, image in images.items():\n",
    "    print(f\"Number {label}: {len(image)} images\")"
   ]
  },
  {
   "cell_type": "code",
   "execution_count": 6,
   "metadata": {},
   "outputs": [],
   "source": [
    "images_mean = {}\n",
    "\n",
    "for label in images.keys():\n",
    "    images_mean[label] = np.mean(images[label], axis=0) "
   ]
  },
  {
   "cell_type": "code",
   "execution_count": 7,
   "metadata": {},
   "outputs": [],
   "source": [
    "\n",
    "def calculate_minimum_distance(test_image_path, images_mean):\n",
    "    test_image = cv2.imread(test_image_path, cv2.IMREAD_GRAYSCALE).flatten()\n",
    "    distances = list(range(0,10))\n",
    "    for label in range(0,10):\n",
    "        # distances[label] = cdist(np.array([images_mean[label]]), np.array([test_image]), metric='euclidean')\n",
    "        distances[label] = euclidean(images_mean[label], test_image)\n",
    "    min_distance = np.min(distances)\n",
    "    return distances.index(min_distance)#, min_distance, distances"
   ]
  },
  {
   "cell_type": "code",
   "execution_count": 13,
   "metadata": {},
   "outputs": [
    {
     "ename": "ValueError",
     "evalue": "all the input array dimensions for the concatenation axis must match exactly, but along dimension 1, the array at index 0 has size 1 and the array at index 1 has size 10",
     "output_type": "error",
     "traceback": [
      "\u001b[1;31m---------------------------------------------------------------------------\u001b[0m",
      "\u001b[1;31mValueError\u001b[0m                                Traceback (most recent call last)",
      "\u001b[1;32mc:\\Users\\romin\\OneDrive\\دسکتاپ\\Romina\\Doc\\M.s\\Computational Data Mining\\HW#2_402112075\\HW2.ipynb Cell 6\u001b[0m line \u001b[0;36m5\n\u001b[0;32m      <a href='vscode-notebook-cell:/c%3A/Users/romin/OneDrive/%D8%AF%D8%B3%DA%A9%D8%AA%D8%A7%D9%BE/Romina/Doc/M.s/Computational%20Data%20Mining/HW%232_402112075/HW2.ipynb#X21sZmlsZQ%3D%3D?line=1'>2</a>\u001b[0m distances \u001b[39m=\u001b[39m \u001b[39mlist\u001b[39m(\u001b[39mrange\u001b[39m(\u001b[39m0\u001b[39m,\u001b[39m10\u001b[39m))\n\u001b[0;32m      <a href='vscode-notebook-cell:/c%3A/Users/romin/OneDrive/%D8%AF%D8%B3%DA%A9%D8%AA%D8%A7%D9%BE/Romina/Doc/M.s/Computational%20Data%20Mining/HW%232_402112075/HW2.ipynb#X21sZmlsZQ%3D%3D?line=2'>3</a>\u001b[0m \u001b[39mfor\u001b[39;00m label \u001b[39min\u001b[39;00m \u001b[39mrange\u001b[39m(\u001b[39m0\u001b[39m,\u001b[39m10\u001b[39m):\n\u001b[0;32m      <a href='vscode-notebook-cell:/c%3A/Users/romin/OneDrive/%D8%AF%D8%B3%DA%A9%D8%AA%D8%A7%D9%BE/Romina/Doc/M.s/Computational%20Data%20Mining/HW%232_402112075/HW2.ipynb#X21sZmlsZQ%3D%3D?line=3'>4</a>\u001b[0m     \u001b[39m# distances[label] = cdist(np.array([images_mean[label]]), np.array([test_image]), metric='euclidean')\u001b[39;00m\n\u001b[1;32m----> <a href='vscode-notebook-cell:/c%3A/Users/romin/OneDrive/%D8%AF%D8%B3%DA%A9%D8%AA%D8%A7%D9%BE/Romina/Doc/M.s/Computational%20Data%20Mining/HW%232_402112075/HW2.ipynb#X21sZmlsZQ%3D%3D?line=4'>5</a>\u001b[0m     distances[label] \u001b[39m=\u001b[39m m, c \u001b[39m=\u001b[39m np\u001b[39m.\u001b[39mlinalg\u001b[39m.\u001b[39mlstsq(np\u001b[39m.\u001b[39;49mvstack([images_mean, np\u001b[39m.\u001b[39;49mones(\u001b[39mlen\u001b[39;49m(images_mean))])\u001b[39m.\u001b[39mT, test_image,rcond\u001b[39m=\u001b[39m\u001b[39mNone\u001b[39;00m)[\u001b[39m0\u001b[39m]\n\u001b[0;32m      <a href='vscode-notebook-cell:/c%3A/Users/romin/OneDrive/%D8%AF%D8%B3%DA%A9%D8%AA%D8%A7%D9%BE/Romina/Doc/M.s/Computational%20Data%20Mining/HW%232_402112075/HW2.ipynb#X21sZmlsZQ%3D%3D?line=5'>6</a>\u001b[0m min_distance \u001b[39m=\u001b[39m np\u001b[39m.\u001b[39mmin(distances)\n",
      "File \u001b[1;32m<__array_function__ internals>:180\u001b[0m, in \u001b[0;36mvstack\u001b[1;34m(*args, **kwargs)\u001b[0m\n",
      "File \u001b[1;32m~\\AppData\\Local\\Packages\\PythonSoftwareFoundation.Python.3.10_qbz5n2kfra8p0\\LocalCache\\local-packages\\Python310\\site-packages\\numpy\\core\\shape_base.py:282\u001b[0m, in \u001b[0;36mvstack\u001b[1;34m(tup)\u001b[0m\n\u001b[0;32m    280\u001b[0m \u001b[39mif\u001b[39;00m \u001b[39mnot\u001b[39;00m \u001b[39misinstance\u001b[39m(arrs, \u001b[39mlist\u001b[39m):\n\u001b[0;32m    281\u001b[0m     arrs \u001b[39m=\u001b[39m [arrs]\n\u001b[1;32m--> 282\u001b[0m \u001b[39mreturn\u001b[39;00m _nx\u001b[39m.\u001b[39;49mconcatenate(arrs, \u001b[39m0\u001b[39;49m)\n",
      "File \u001b[1;32m<__array_function__ internals>:180\u001b[0m, in \u001b[0;36mconcatenate\u001b[1;34m(*args, **kwargs)\u001b[0m\n",
      "\u001b[1;31mValueError\u001b[0m: all the input array dimensions for the concatenation axis must match exactly, but along dimension 1, the array at index 0 has size 1 and the array at index 1 has size 10"
     ]
    }
   ],
   "source": [
    "test_image = cv2.imread('TinyMNIST_2/TinyMNIST/test/0/img_1.jpg', cv2.IMREAD_GRAYSCALE).flatten()\n",
    "distances = list(range(0,10))\n",
    "for label in range(0,10):\n",
    "    # distances[label] = cdist(np.array([images_mean[label]]), np.array([test_image]), metric='euclidean')\n",
    "    distances[label] = m, c = np.linalg.lstsq(np.vstack([images_mean, np.ones(len(images_mean))]).T, test_image,rcond=None)[0]\n",
    "min_distance = np.min(distances)\n",
    "# distances.index(min_distance)#, min_distance, distances"
   ]
  },
  {
   "cell_type": "code",
   "execution_count": 8,
   "metadata": {},
   "outputs": [],
   "source": [
    "df = pd.DataFrame(columns=['id', 'label'])\n",
    "\n",
    "for label in range(10):\n",
    "    img_list = os.listdir(f\"TinyMNIST_2/TinyMNIST/test/{label}\")\n",
    "    for img in img_list:\n",
    "        data = {\n",
    "        \"id\": int(img.split(\".\")[0].split('_')[1]),\n",
    "        \"label\": int(label)\n",
    "        }\n",
    "\n",
    "        # df.append(pd.DataFrame(data))\n",
    "        df.loc[len(df)] = data\n",
    "\n",
    "test = df.drop_duplicates().sort_values('id')"
   ]
  },
  {
   "cell_type": "code",
   "execution_count": 9,
   "metadata": {},
   "outputs": [],
   "source": [
    "df = pd.DataFrame(columns=['id', 'label'])\n",
    "\n",
    "for img in os.listdir('TinyMNIST/test/test'):\n",
    "    data = {\n",
    "        \"id\": int(img.split(\".\")[0].split('_')[1]),\n",
    "        \"label\": int(calculate_minimum_distance(f'TinyMNIST/test/test/{img}', images_mean))\n",
    "    }\n",
    "    df.loc[len(df)] = data\n",
    "\n",
    "pred = df.drop_duplicates().sort_values('id')"
   ]
  },
  {
   "cell_type": "code",
   "execution_count": 11,
   "metadata": {},
   "outputs": [
    {
     "data": {
      "text/plain": [
       "0.79"
      ]
     },
     "execution_count": 11,
     "metadata": {},
     "output_type": "execute_result"
    }
   ],
   "source": [
    "accuracy_score(test['label'], pred['label'])"
   ]
  },
  {
   "cell_type": "code",
   "execution_count": 12,
   "metadata": {},
   "outputs": [
    {
     "data": {
      "text/plain": [
       "array([[53,  0,  0,  1,  0,  4,  2,  0,  1,  0],\n",
       "       [ 0, 56,  0,  0,  0,  1,  0,  0,  2,  0],\n",
       "       [ 0,  5, 41,  2,  3,  0,  3,  1,  3,  0],\n",
       "       [ 0,  2,  1, 50,  1,  3,  0,  1,  1,  1],\n",
       "       [ 0,  0,  0,  0, 50,  0,  2,  0,  1,  7],\n",
       "       [ 1,  7,  0, 10,  1, 36,  2,  0,  1,  1],\n",
       "       [ 1,  4,  1,  1,  3,  2, 48,  0,  1,  0],\n",
       "       [ 0,  4,  1,  0,  3,  0,  1, 43,  3,  7],\n",
       "       [ 0,  2,  0,  7,  0,  2,  0,  0, 47,  2],\n",
       "       [ 1,  1,  0,  1,  2,  1,  0,  2,  2, 50]])"
      ]
     },
     "execution_count": 12,
     "metadata": {},
     "output_type": "execute_result"
    }
   ],
   "source": [
    "confusion_matrix(test['label'], pred['label'])"
   ]
  },
  {
   "cell_type": "code",
   "execution_count": 189,
   "metadata": {},
   "outputs": [
    {
     "data": {
      "text/plain": [
       "{0: 0.9316432981538367,\n",
       " 1: 0.9514709107428178,\n",
       " 2: 0.8506807481867922,\n",
       " 3: 0.8962962962962964,\n",
       " 4: 0.9046296296296298,\n",
       " 5: 0.793069958332028,\n",
       " 6: 0.8841661851029533,\n",
       " 7: 0.843056721429428,\n",
       " 8: 0.8777777777777777,\n",
       " 9: 0.9}"
      ]
     },
     "execution_count": 189,
     "metadata": {},
     "output_type": "execute_result"
    }
   ],
   "source": [
    "def roc_auc_score_multiclass(actual_class, pred_class, average = \"macro\"):\n",
    "    \n",
    "    #creating a set of all the unique classes using the actual class list\n",
    "    unique_class = set(actual_class)\n",
    "    roc_auc_dict = {}\n",
    "    for per_class in unique_class:\n",
    "        \n",
    "        #creating a list of all the classes except the current class \n",
    "        other_class = [x for x in unique_class if x != per_class]\n",
    "\n",
    "        #marking the current class as 1 and all other classes as 0\n",
    "        new_actual_class = [0 if x in other_class else 1 for x in actual_class]\n",
    "        new_pred_class = [0 if x in other_class else 1 for x in pred_class]\n",
    "\n",
    "        #using the sklearn metrics method to calculate the roc_auc_score\n",
    "        roc_auc = roc_auc_score(new_actual_class, new_pred_class, average = average)\n",
    "        roc_auc_dict[per_class] = roc_auc\n",
    "\n",
    "    return roc_auc_dict\n",
    "\n",
    "roc_auc_score_multiclass(test['label'], pred['label'])"
   ]
  },
  {
   "cell_type": "code",
   "execution_count": 10,
   "metadata": {},
   "outputs": [
    {
     "data": {
      "text/html": [
       "<div>\n",
       "<style scoped>\n",
       "    .dataframe tbody tr th:only-of-type {\n",
       "        vertical-align: middle;\n",
       "    }\n",
       "\n",
       "    .dataframe tbody tr th {\n",
       "        vertical-align: top;\n",
       "    }\n",
       "\n",
       "    .dataframe thead th {\n",
       "        text-align: right;\n",
       "    }\n",
       "</style>\n",
       "<table border=\"1\" class=\"dataframe\">\n",
       "  <thead>\n",
       "    <tr style=\"text-align: right;\">\n",
       "      <th></th>\n",
       "      <th>id</th>\n",
       "      <th>label</th>\n",
       "    </tr>\n",
       "  </thead>\n",
       "  <tbody>\n",
       "    <tr>\n",
       "      <th>61</th>\n",
       "      <td>0</td>\n",
       "      <td>1</td>\n",
       "    </tr>\n",
       "    <tr>\n",
       "      <th>0</th>\n",
       "      <td>1</td>\n",
       "      <td>0</td>\n",
       "    </tr>\n",
       "    <tr>\n",
       "      <th>72</th>\n",
       "      <td>2</td>\n",
       "      <td>1</td>\n",
       "    </tr>\n",
       "    <tr>\n",
       "      <th>255</th>\n",
       "      <td>3</td>\n",
       "      <td>4</td>\n",
       "    </tr>\n",
       "    <tr>\n",
       "      <th>43</th>\n",
       "      <td>4</td>\n",
       "      <td>0</td>\n",
       "    </tr>\n",
       "    <tr>\n",
       "      <th>...</th>\n",
       "      <td>...</td>\n",
       "      <td>...</td>\n",
       "    </tr>\n",
       "    <tr>\n",
       "      <th>534</th>\n",
       "      <td>653</td>\n",
       "      <td>8</td>\n",
       "    </tr>\n",
       "    <tr>\n",
       "      <th>478</th>\n",
       "      <td>654</td>\n",
       "      <td>7</td>\n",
       "    </tr>\n",
       "    <tr>\n",
       "      <th>412</th>\n",
       "      <td>659</td>\n",
       "      <td>6</td>\n",
       "    </tr>\n",
       "    <tr>\n",
       "      <th>536</th>\n",
       "      <td>672</td>\n",
       "      <td>8</td>\n",
       "    </tr>\n",
       "    <tr>\n",
       "      <th>537</th>\n",
       "      <td>674</td>\n",
       "      <td>8</td>\n",
       "    </tr>\n",
       "  </tbody>\n",
       "</table>\n",
       "<p>600 rows × 2 columns</p>\n",
       "</div>"
      ],
      "text/plain": [
       "      id  label\n",
       "61     0      1\n",
       "0      1      0\n",
       "72     2      1\n",
       "255    3      4\n",
       "43     4      0\n",
       "..   ...    ...\n",
       "534  653      8\n",
       "478  654      7\n",
       "412  659      6\n",
       "536  672      8\n",
       "537  674      8\n",
       "\n",
       "[600 rows x 2 columns]"
      ]
     },
     "execution_count": 10,
     "metadata": {},
     "output_type": "execute_result"
    }
   ],
   "source": [
    "test"
   ]
  },
  {
   "cell_type": "code",
   "execution_count": 11,
   "metadata": {},
   "outputs": [
    {
     "data": {
      "text/html": [
       "<div>\n",
       "<style scoped>\n",
       "    .dataframe tbody tr th:only-of-type {\n",
       "        vertical-align: middle;\n",
       "    }\n",
       "\n",
       "    .dataframe tbody tr th {\n",
       "        vertical-align: top;\n",
       "    }\n",
       "\n",
       "    .dataframe thead th {\n",
       "        text-align: right;\n",
       "    }\n",
       "</style>\n",
       "<table border=\"1\" class=\"dataframe\">\n",
       "  <thead>\n",
       "    <tr style=\"text-align: right;\">\n",
       "      <th></th>\n",
       "      <th>id</th>\n",
       "      <th>label</th>\n",
       "    </tr>\n",
       "  </thead>\n",
       "  <tbody>\n",
       "    <tr>\n",
       "      <th>0</th>\n",
       "      <td>0</td>\n",
       "      <td>1</td>\n",
       "    </tr>\n",
       "    <tr>\n",
       "      <th>1</th>\n",
       "      <td>1</td>\n",
       "      <td>0</td>\n",
       "    </tr>\n",
       "    <tr>\n",
       "      <th>112</th>\n",
       "      <td>2</td>\n",
       "      <td>1</td>\n",
       "    </tr>\n",
       "    <tr>\n",
       "      <th>223</th>\n",
       "      <td>3</td>\n",
       "      <td>4</td>\n",
       "    </tr>\n",
       "    <tr>\n",
       "      <th>334</th>\n",
       "      <td>4</td>\n",
       "      <td>0</td>\n",
       "    </tr>\n",
       "    <tr>\n",
       "      <th>...</th>\n",
       "      <td>...</td>\n",
       "      <td>...</td>\n",
       "    </tr>\n",
       "    <tr>\n",
       "      <th>558</th>\n",
       "      <td>653</td>\n",
       "      <td>8</td>\n",
       "    </tr>\n",
       "    <tr>\n",
       "      <th>559</th>\n",
       "      <td>654</td>\n",
       "      <td>9</td>\n",
       "    </tr>\n",
       "    <tr>\n",
       "      <th>560</th>\n",
       "      <td>659</td>\n",
       "      <td>6</td>\n",
       "    </tr>\n",
       "    <tr>\n",
       "      <th>563</th>\n",
       "      <td>672</td>\n",
       "      <td>8</td>\n",
       "    </tr>\n",
       "    <tr>\n",
       "      <th>564</th>\n",
       "      <td>674</td>\n",
       "      <td>8</td>\n",
       "    </tr>\n",
       "  </tbody>\n",
       "</table>\n",
       "<p>600 rows × 2 columns</p>\n",
       "</div>"
      ],
      "text/plain": [
       "      id  label\n",
       "0      0      1\n",
       "1      1      0\n",
       "112    2      1\n",
       "223    3      4\n",
       "334    4      0\n",
       "..   ...    ...\n",
       "558  653      8\n",
       "559  654      9\n",
       "560  659      6\n",
       "563  672      8\n",
       "564  674      8\n",
       "\n",
       "[600 rows x 2 columns]"
      ]
     },
     "execution_count": 11,
     "metadata": {},
     "output_type": "execute_result"
    }
   ],
   "source": [
    "pred"
   ]
  },
  {
   "cell_type": "code",
   "execution_count": null,
   "metadata": {},
   "outputs": [],
   "source": []
  }
 ],
 "metadata": {
  "kernelspec": {
   "display_name": "Python 3",
   "language": "python",
   "name": "python3"
  },
  "language_info": {
   "codemirror_mode": {
    "name": "ipython",
    "version": 3
   },
   "file_extension": ".py",
   "mimetype": "text/x-python",
   "name": "python",
   "nbconvert_exporter": "python",
   "pygments_lexer": "ipython3",
   "version": "3.10.11"
  }
 },
 "nbformat": 4,
 "nbformat_minor": 2
}

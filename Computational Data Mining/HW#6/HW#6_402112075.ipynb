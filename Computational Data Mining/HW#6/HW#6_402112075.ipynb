{
 "cells": [
  {
   "cell_type": "markdown",
   "metadata": {},
   "source": [
    "# 6th Home Work - Computational Data Mining\n",
    "Fatemeh Shiri"
   ]
  },
  {
   "cell_type": "code",
   "execution_count": 1,
   "metadata": {},
   "outputs": [],
   "source": [
    "from scipy.io import loadmat \n",
    "import pandas as pd\n",
    "from scipy.sparse import csc_array\n",
    "import random\n",
    "from collections import defaultdict\n",
    "from itertools import chain, repeat\n",
    "from sklearn.cluster import KMeans\n",
    "from sklearn.decomposition import NMF\n",
    "import numpy as np\n",
    "from sklearn.metrics import accuracy_score\n",
    "import math"
   ]
  },
  {
   "cell_type": "markdown",
   "metadata": {},
   "source": [
    "## tdt2 Data Collection"
   ]
  },
  {
   "cell_type": "code",
   "execution_count": 6,
   "metadata": {},
   "outputs": [],
   "source": [
    "data_td = loadmat(\"TDT2.mat\")\n",
    "tdt2 = csc_array(data_td['fea']).toarray()"
   ]
  },
  {
   "cell_type": "code",
   "execution_count": 23,
   "metadata": {},
   "outputs": [],
   "source": [
    "tdt2_top_10_categories = [i[0] for i in list(pd.DataFrame(data_td['gnd']).value_counts()[0:10].index.values)]\n",
    "tdt2_last_10_categories = [i[0] for i in list(pd.DataFrame(data_td['gnd']).value_counts()[-10:].index.values)]"
   ]
  },
  {
   "cell_type": "code",
   "execution_count": 56,
   "metadata": {},
   "outputs": [],
   "source": [
    "tdt2_last_10_values = [tdt2[i] for i in range(0, len(data_td['gnd'])) if data_td['gnd'][i] in tdt2_last_10_categories]\n",
    "tdt2_last_10_labels = []\n",
    "for i in range(0, len(data_td['gnd'])):\n",
    "    if data_td['gnd'][i] in tdt2_last_10_categories:\n",
    "        tdt2_last_10_labels.append(data_td['gnd'][i][0])\n",
    "\n",
    "\n",
    "tdt2_top_10 = defaultdict(list)\n",
    "for i in range(0, len(data_td['gnd'])):\n",
    "    if data_td['gnd'][i] in tdt2_top_10_categories:\n",
    "        tdt2_top_10[data_td['gnd'][i][0]].append(i)\n",
    "\n",
    "tdt2_top_10_labels = []\n",
    "for key in tdt2_top_10.keys():\n",
    "    tdt2_top_10_labels.extend(repeat(key, int(0.1 * len(tdt2_top_10[key]))))\n",
    "    tdt2_top_10[key] = random.sample(tdt2_top_10[key], int(0.1 * len(tdt2_top_10[key])))\n",
    "\n",
    "tdt2_top_10 = list(chain(*list(tdt2_top_10.values())))\n",
    "\n",
    "tdt2_top_10_values = [tdt2[i] for i in tdt2_top_10]\n"
   ]
  },
  {
   "cell_type": "markdown",
   "metadata": {},
   "source": [
    "## Reuters Data Collection"
   ]
  },
  {
   "cell_type": "code",
   "execution_count": 9,
   "metadata": {},
   "outputs": [],
   "source": [
    "data_reu = loadmat(\"Reuters21578.mat\")\n",
    "reu = csc_array(data_reu['fea']).toarray()"
   ]
  },
  {
   "cell_type": "code",
   "execution_count": 10,
   "metadata": {},
   "outputs": [],
   "source": [
    "reu_top_10_categories = [i[0] for i in list(pd.DataFrame(data_td['gnd']).value_counts()[0:10].index.values)]\n",
    "reu_top_20_categories = [i[0] for i in list(pd.DataFrame(data_td['gnd']).value_counts()[0:20].index.values)]"
   ]
  },
  {
   "cell_type": "code",
   "execution_count": 11,
   "metadata": {},
   "outputs": [],
   "source": [
    "reu_top_10 = defaultdict(list)\n",
    "for i in range(0, len(data_reu['gnd'])):\n",
    "    if data_reu['gnd'][i] in reu_top_10_categories:\n",
    "        reu_top_10[data_reu['gnd'][i][0]].append(i)\n",
    "\n",
    "reu_top_10_labels = []\n",
    "for key in reu_top_10.keys():\n",
    "    if key == 1:\n",
    "        reu_top_10_labels.extend(repeat(key, int(0.05 * len(reu_top_10[key]))))\n",
    "        reu_top_10[key] = random.sample(reu_top_10[key], int(0.05 * len(reu_top_10[key])))\n",
    "    elif key == 2:\n",
    "        reu_top_10_labels.extend(repeat(key, int(0.1 * len(reu_top_10[key]))))\n",
    "        reu_top_10[key] = random.sample(reu_top_10[key], int(0.1 * len(reu_top_10[key])))\n",
    "    else:\n",
    "        reu_top_10_labels.extend(repeat(key, int(0.4 * len(reu_top_10[key]))))\n",
    "        reu_top_10[key] = random.sample(reu_top_10[key], int(0.4 * len(reu_top_10[key])))\n",
    "reu_top_10 = list(chain(*list(reu_top_10.values())))\n",
    "\n",
    "reu_top_10_values = [reu[i] for i in reu_top_10]"
   ]
  },
  {
   "cell_type": "code",
   "execution_count": 12,
   "metadata": {},
   "outputs": [],
   "source": [
    "reu_top_20 = defaultdict(list)\n",
    "for i in range(0, len(data_reu['gnd'])):\n",
    "    if data_reu['gnd'][i] in reu_top_20_categories:\n",
    "        reu_top_20[data_reu['gnd'][i][0]].append(i)\n",
    "\n",
    "reu_top_20_labels = []\n",
    "for key in reu_top_20.keys():\n",
    "    if key == 1:\n",
    "        reu_top_20_labels.extend(repeat(key, int(0.05 * len(reu_top_20[key]))))\n",
    "        reu_top_20[key] = random.sample(reu_top_20[key], int(0.05 * len(reu_top_20[key])))\n",
    "    elif key == 2:\n",
    "        reu_top_20_labels.extend(repeat(key, int(0.1 * len(reu_top_20[key]))))\n",
    "        reu_top_20[key] = random.sample(reu_top_20[key], int(0.1 * len(reu_top_20[key])))\n",
    "    else:\n",
    "        # print(key)\n",
    "        reu_top_20_labels.extend(repeat(key, len(reu_top_20[key])))\n",
    "\n",
    "reu_top_20 = list(chain(*list(reu_top_20.values())))\n",
    "\n",
    "reu_top_20_values = [reu[i] for i in reu_top_20]"
   ]
  },
  {
   "cell_type": "markdown",
   "metadata": {},
   "source": [
    "## Kmeans"
   ]
  },
  {
   "cell_type": "code",
   "execution_count": 58,
   "metadata": {},
   "outputs": [
    {
     "name": "stderr",
     "output_type": "stream",
     "text": [
      "C:\\Users\\romin\\AppData\\Local\\Packages\\PythonSoftwareFoundation.Python.3.10_qbz5n2kfra8p0\\LocalCache\\local-packages\\Python310\\site-packages\\sklearn\\cluster\\_kmeans.py:1416: FutureWarning: The default value of `n_init` will change from 10 to 'auto' in 1.4. Set the value of `n_init` explicitly to suppress the warning\n",
      "  super()._check_params_vs_input(X, default_n_init=10)\n"
     ]
    }
   ],
   "source": [
    "kmeans = KMeans(n_clusters=10)\n",
    "tdt2_last_10_transformed_kmeans = kmeans.fit_transform(tdt2_last_10_values)\n",
    "tdt2_last_10_predicted_kmeans = kmeans.labels_"
   ]
  },
  {
   "cell_type": "code",
   "execution_count": 27,
   "metadata": {},
   "outputs": [
    {
     "name": "stderr",
     "output_type": "stream",
     "text": [
      "C:\\Users\\romin\\AppData\\Local\\Packages\\PythonSoftwareFoundation.Python.3.10_qbz5n2kfra8p0\\LocalCache\\local-packages\\Python310\\site-packages\\sklearn\\cluster\\_kmeans.py:1416: FutureWarning: The default value of `n_init` will change from 10 to 'auto' in 1.4. Set the value of `n_init` explicitly to suppress the warning\n",
      "  super()._check_params_vs_input(X, default_n_init=10)\n"
     ]
    }
   ],
   "source": [
    "kmeans = KMeans(n_clusters=10)\n",
    "tdt2_top_10_transformed_kmeans = kmeans.fit_transform(tdt2_top_10_values)\n",
    "tdt2_top_10_predicted_kmeans = kmeans.labels_"
   ]
  },
  {
   "cell_type": "code",
   "execution_count": 28,
   "metadata": {},
   "outputs": [
    {
     "name": "stderr",
     "output_type": "stream",
     "text": [
      "C:\\Users\\romin\\AppData\\Local\\Packages\\PythonSoftwareFoundation.Python.3.10_qbz5n2kfra8p0\\LocalCache\\local-packages\\Python310\\site-packages\\sklearn\\cluster\\_kmeans.py:1416: FutureWarning: The default value of `n_init` will change from 10 to 'auto' in 1.4. Set the value of `n_init` explicitly to suppress the warning\n",
      "  super()._check_params_vs_input(X, default_n_init=10)\n"
     ]
    }
   ],
   "source": [
    "kmeans = KMeans(n_clusters=10)\n",
    "reu_top_10_transformed_kmeans = kmeans.fit_transform(reu_top_10_values)\n",
    "reu_top_10_predicted_kmeans = kmeans.labels_"
   ]
  },
  {
   "cell_type": "code",
   "execution_count": 29,
   "metadata": {},
   "outputs": [
    {
     "name": "stderr",
     "output_type": "stream",
     "text": [
      "C:\\Users\\romin\\AppData\\Local\\Packages\\PythonSoftwareFoundation.Python.3.10_qbz5n2kfra8p0\\LocalCache\\local-packages\\Python310\\site-packages\\sklearn\\cluster\\_kmeans.py:1416: FutureWarning: The default value of `n_init` will change from 10 to 'auto' in 1.4. Set the value of `n_init` explicitly to suppress the warning\n",
      "  super()._check_params_vs_input(X, default_n_init=10)\n"
     ]
    }
   ],
   "source": [
    "kmeans = KMeans(n_clusters=20)\n",
    "reu_top_20_transformed_kmeans = kmeans.fit_transform(reu_top_20_values)\n",
    "reu_top_20_predicted_kmeans = kmeans.labels_"
   ]
  },
  {
   "cell_type": "markdown",
   "metadata": {},
   "source": [
    "## NMF"
   ]
  },
  {
   "cell_type": "code",
   "execution_count": 59,
   "metadata": {},
   "outputs": [],
   "source": [
    "nmf = NMF(n_components=10)\n",
    "tdt2_last_10_transformed_nmf = nmf.fit_transform(tdt2_last_10_values)\n",
    "tdt2_last_10_predicted_nmf = nmf.transform(tdt2_last_10_values).argmax(axis =1)"
   ]
  },
  {
   "cell_type": "code",
   "execution_count": 31,
   "metadata": {},
   "outputs": [],
   "source": [
    "nmf = NMF(n_components=10)\n",
    "tdt2_top_10_transformed_nmf = nmf.fit_transform(tdt2_top_10_values)\n",
    "tdt2_top_10_predicted_nmf = nmf.transform(tdt2_top_10_values).argmax(axis =1)"
   ]
  },
  {
   "cell_type": "code",
   "execution_count": 32,
   "metadata": {},
   "outputs": [],
   "source": [
    "nmf = NMF(n_components=10)\n",
    "reu_top_10_transformed_nmf = nmf.fit_transform(reu_top_10_values)\n",
    "reu_top_10_predicted_nmf = nmf.transform(reu_top_10_values).argmax(axis =1)"
   ]
  },
  {
   "cell_type": "code",
   "execution_count": 33,
   "metadata": {},
   "outputs": [],
   "source": [
    "nmf = NMF(n_components=20)\n",
    "reu_top_20_transformed_nmf = nmf.fit_transform(reu_top_20_values)\n",
    "reu_top_20_predicted_nmf = nmf.transform(reu_top_20_values).argmax(axis =1)"
   ]
  },
  {
   "cell_type": "markdown",
   "metadata": {},
   "source": [
    "## Purity"
   ]
  },
  {
   "cell_type": "code",
   "execution_count": 70,
   "metadata": {},
   "outputs": [],
   "source": [
    "def purity_score(y_true, y_pred):\n",
    "    y_voted_labels = np.zeros(y_true.shape)\n",
    "    labels = np.unique(y_true)\n",
    "    ordered_labels = np.arange(labels.shape[0])\n",
    "    for k in range(labels.shape[0]):\n",
    "        y_true[y_true==labels[k]] = ordered_labels[k]\n",
    "    # Update unique labels\n",
    "    labels = np.unique(y_true)\n",
    "    bins = np.concatenate((labels, [np.max(labels)+1]), axis=0)\n",
    "\n",
    "    for cluster in np.unique(y_pred):\n",
    "        hist, _ = np.histogram(y_true[y_pred==cluster], bins=bins)\n",
    "        # Find the most present label in the cluster\n",
    "        winner = np.argmax(hist)\n",
    "        y_voted_labels[y_pred==cluster] = winner\n",
    "    \n",
    "    return accuracy_score(y_true, y_voted_labels)\n",
    "\n"
   ]
  },
  {
   "cell_type": "code",
   "execution_count": 71,
   "metadata": {},
   "outputs": [
    {
     "data": {
      "text/plain": [
       "0.3537519142419602"
      ]
     },
     "execution_count": 71,
     "metadata": {},
     "output_type": "execute_result"
    }
   ],
   "source": [
    "purity_score(np.array(tdt2_last_10_labels), tdt2_last_10_predicted_kmeans)"
   ]
  },
  {
   "cell_type": "code",
   "execution_count": 72,
   "metadata": {},
   "outputs": [
    {
     "data": {
      "text/plain": [
       "0.8177641653905053"
      ]
     },
     "execution_count": 72,
     "metadata": {},
     "output_type": "execute_result"
    }
   ],
   "source": [
    "purity_score(np.array(tdt2_last_10_labels), tdt2_last_10_predicted_nmf)"
   ]
  },
  {
   "cell_type": "code",
   "execution_count": 73,
   "metadata": {},
   "outputs": [
    {
     "data": {
      "text/plain": [
       "0.39541160593792174"
      ]
     },
     "execution_count": 73,
     "metadata": {},
     "output_type": "execute_result"
    }
   ],
   "source": [
    "purity_score(np.array(tdt2_top_10_labels), tdt2_top_10_predicted_kmeans)"
   ]
  },
  {
   "cell_type": "code",
   "execution_count": 74,
   "metadata": {},
   "outputs": [
    {
     "data": {
      "text/plain": [
       "0.7935222672064778"
      ]
     },
     "execution_count": 74,
     "metadata": {},
     "output_type": "execute_result"
    }
   ],
   "source": [
    "purity_score(np.array(tdt2_top_10_labels), tdt2_top_10_predicted_nmf)"
   ]
  },
  {
   "cell_type": "code",
   "execution_count": 75,
   "metadata": {},
   "outputs": [
    {
     "data": {
      "text/plain": [
       "0.3993963782696177"
      ]
     },
     "execution_count": 75,
     "metadata": {},
     "output_type": "execute_result"
    }
   ],
   "source": [
    "purity_score(np.array(reu_top_10_labels), reu_top_10_predicted_kmeans)"
   ]
  },
  {
   "cell_type": "code",
   "execution_count": 76,
   "metadata": {},
   "outputs": [
    {
     "data": {
      "text/plain": [
       "0.6871227364185111"
      ]
     },
     "execution_count": 76,
     "metadata": {},
     "output_type": "execute_result"
    }
   ],
   "source": [
    "purity_score(np.array(reu_top_10_labels), reu_top_10_predicted_nmf)"
   ]
  },
  {
   "cell_type": "code",
   "execution_count": 77,
   "metadata": {},
   "outputs": [
    {
     "data": {
      "text/plain": [
       "0.36911643270024774"
      ]
     },
     "execution_count": 77,
     "metadata": {},
     "output_type": "execute_result"
    }
   ],
   "source": [
    "purity_score(np.array(reu_top_20_labels), reu_top_20_predicted_kmeans)"
   ]
  },
  {
   "cell_type": "code",
   "execution_count": 78,
   "metadata": {},
   "outputs": [
    {
     "data": {
      "text/plain": [
       "0.597027250206441"
      ]
     },
     "execution_count": 78,
     "metadata": {},
     "output_type": "execute_result"
    }
   ],
   "source": [
    "purity_score(np.array(reu_top_20_labels), reu_top_20_predicted_nmf)"
   ]
  },
  {
   "cell_type": "markdown",
   "metadata": {},
   "source": [
    "## Entropy"
   ]
  },
  {
   "cell_type": "code",
   "execution_count": 43,
   "metadata": {},
   "outputs": [],
   "source": [
    "def entropy (y_true, y_predict):\n",
    "\n",
    "    dict_lable_num = {}\n",
    "    for i in np.unique(y_true):\n",
    "        dict_lable_num[i] = {}\n",
    "    for i in np.unique(y_true):\n",
    "        for j in np.unique(y_predict):\n",
    "            dict_lable_num [i][j] = 0\n",
    "    for k in range(len(y_true)):\n",
    "        dict_lable_num[y_true[k]][y_predict[k]] += 1\n",
    "    \n",
    "    dict_size_of_clusters = {}\n",
    "    for i in np.unique(y_predict):\n",
    "        dict_size_of_clusters [i] = 0\n",
    "    for data in y_predict:\n",
    "        dict_size_of_clusters[data] += 1\n",
    "\n",
    "    sigma = 0\n",
    "    for i in np.unique(y_predict):\n",
    "        for j in np.unique(y_true):\n",
    "            if (dict_lable_num[j][i] == 0):\n",
    "                pass\n",
    "            else:\n",
    "                sigma += dict_lable_num[j][i] * math.log(dict_lable_num[j][i]/dict_size_of_clusters[i])\n",
    "    \n",
    "    return((sigma/(len(y_true)*math.log(len(np.unique(y_true))))) * -1)\n"
   ]
  },
  {
   "cell_type": "code",
   "execution_count": 62,
   "metadata": {},
   "outputs": [
    {
     "data": {
      "text/plain": [
       "0.737046323996624"
      ]
     },
     "execution_count": 62,
     "metadata": {},
     "output_type": "execute_result"
    }
   ],
   "source": [
    "entropy(np.array(tdt2_last_10_labels), np.array(tdt2_last_10_predicted_kmeans))"
   ]
  },
  {
   "cell_type": "code",
   "execution_count": 63,
   "metadata": {},
   "outputs": [
    {
     "data": {
      "text/plain": [
       "0.23432270732282953"
      ]
     },
     "execution_count": 63,
     "metadata": {},
     "output_type": "execute_result"
    }
   ],
   "source": [
    "entropy(np.array(tdt2_last_10_labels), tdt2_last_10_predicted_nmf)"
   ]
  },
  {
   "cell_type": "code",
   "execution_count": 48,
   "metadata": {},
   "outputs": [
    {
     "data": {
      "text/plain": [
       "0.7040535207922487"
      ]
     },
     "execution_count": 48,
     "metadata": {},
     "output_type": "execute_result"
    }
   ],
   "source": [
    "entropy(np.array(tdt2_top_10_labels), tdt2_top_10_predicted_kmeans)"
   ]
  },
  {
   "cell_type": "code",
   "execution_count": 49,
   "metadata": {},
   "outputs": [
    {
     "data": {
      "text/plain": [
       "0.2745026547900948"
      ]
     },
     "execution_count": 49,
     "metadata": {},
     "output_type": "execute_result"
    }
   ],
   "source": [
    "entropy(np.array(tdt2_top_10_labels), tdt2_top_10_predicted_nmf)"
   ]
  },
  {
   "cell_type": "code",
   "execution_count": 50,
   "metadata": {},
   "outputs": [
    {
     "data": {
      "text/plain": [
       "0.764201811549705"
      ]
     },
     "execution_count": 50,
     "metadata": {},
     "output_type": "execute_result"
    }
   ],
   "source": [
    "entropy(np.array(reu_top_10_labels), reu_top_10_predicted_kmeans)"
   ]
  },
  {
   "cell_type": "code",
   "execution_count": 51,
   "metadata": {},
   "outputs": [
    {
     "data": {
      "text/plain": [
       "0.39747811844071473"
      ]
     },
     "execution_count": 51,
     "metadata": {},
     "output_type": "execute_result"
    }
   ],
   "source": [
    "entropy(np.array(reu_top_10_labels), reu_top_10_predicted_nmf)"
   ]
  },
  {
   "cell_type": "code",
   "execution_count": 52,
   "metadata": {},
   "outputs": [
    {
     "data": {
      "text/plain": [
       "0.6546928227216176"
      ]
     },
     "execution_count": 52,
     "metadata": {},
     "output_type": "execute_result"
    }
   ],
   "source": [
    "entropy(np.array(reu_top_20_labels), reu_top_20_predicted_kmeans)"
   ]
  },
  {
   "cell_type": "code",
   "execution_count": 53,
   "metadata": {},
   "outputs": [
    {
     "data": {
      "text/plain": [
       "0.42641626443114167"
      ]
     },
     "execution_count": 53,
     "metadata": {},
     "output_type": "execute_result"
    }
   ],
   "source": [
    "entropy(np.array(reu_top_20_labels), reu_top_20_predicted_nmf)"
   ]
  },
  {
   "cell_type": "code",
   "execution_count": null,
   "metadata": {},
   "outputs": [],
   "source": []
  },
  {
   "cell_type": "code",
   "execution_count": null,
   "metadata": {},
   "outputs": [],
   "source": []
  }
 ],
 "metadata": {
  "kernelspec": {
   "display_name": "Python 3",
   "language": "python",
   "name": "python3"
  },
  "language_info": {
   "codemirror_mode": {
    "name": "ipython",
    "version": 3
   },
   "file_extension": ".py",
   "mimetype": "text/x-python",
   "name": "python",
   "nbconvert_exporter": "python",
   "pygments_lexer": "ipython3",
   "version": "3.10.11"
  }
 },
 "nbformat": 4,
 "nbformat_minor": 2
}

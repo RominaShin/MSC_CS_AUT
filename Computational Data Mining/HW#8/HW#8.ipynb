{
 "cells": [
  {
   "cell_type": "code",
   "execution_count": 1,
   "metadata": {},
   "outputs": [],
   "source": [
    "import numpy as np\n",
    "import os\n",
    "from PIL import Image\n",
    "from collections import defaultdict\n",
    "from numpy.linalg import svd, lstsq, qr, norm\n",
    "from sklearn.metrics import accuracy_score"
   ]
  },
  {
   "cell_type": "code",
   "execution_count": 7,
   "metadata": {},
   "outputs": [],
   "source": [
    "def fold(matrix, shape, mode=1):\n",
    "    m, n, d = shape\n",
    "    q, r = matrix.shape\n",
    "    tensor = np.empty(shape)\n",
    "    if mode == 1:\n",
    "        slice = range(0, r + 1, d)\n",
    "        for i in range(n):\n",
    "            b, e = slice[i], slice[i + 1]\n",
    "            tensor[:, i, :] = matrix[:, b : e]\n",
    "    elif mode == 2:\n",
    "        slice = range(0, r + 1, m)\n",
    "        for i in range(d):\n",
    "            b, e = slice[i], slice[i + 1]\n",
    "            tensor[:, :, i] = matrix[:, b : e].T\n",
    "    else:\n",
    "        slice = range(0, r + 1, n)\n",
    "        for i in range(m):\n",
    "            b, e = slice[i], slice[i + 1]\n",
    "            tensor[i, :, :] = matrix[:, b : e].T\n",
    "    \n",
    "    return tensor"
   ]
  },
  {
   "cell_type": "code",
   "execution_count": 2,
   "metadata": {},
   "outputs": [],
   "source": [
    "def unfold(tensor, mode=1):\n",
    "    m, n, d = tensor.shape\n",
    "    if mode == 1:\n",
    "        return np.concatenate([tensor[:, i, :] for i in range(n)], axis=1)    \n",
    "    elif mode == 2:\n",
    "        return np.concatenate([tensor[:, :, i].T for i in range(d)], axis=1)    \n",
    "    else:\n",
    "        return np.concatenate([tensor[i, :, :].T for i in range(m)], axis=1)\n"
   ]
  },
  {
   "cell_type": "code",
   "execution_count": 3,
   "metadata": {},
   "outputs": [],
   "source": [
    "def multiply(tensor, matrix, mode=1):\n",
    "    q, r = matrix.shape\n",
    "    m, n, d = tensor.shape\n",
    "\n",
    "    if mode == 1:\n",
    "        res = np.empty((q, n * d))\n",
    "        res = np.concatenate([np.dot(matrix, tensor[:, i, :]) for i in range(n)], axis=1)\n",
    "        return fold(res, (q, n, d), mode)\n",
    "    \n",
    "    elif mode == 2:\n",
    "        res = np.empty((q, m * d))\n",
    "        res = np.concatenate([np.dot(matrix, tensor[:, :, i].T) for i in range(d)], axis=1)\n",
    "        return fold(res, (m, q, d), mode)\n",
    "    \n",
    "    else:\n",
    "        res = np.empty((q, m * n))\n",
    "        res = np.concatenate([np.dot(matrix, tensor[i, :, :].T) for i in range(m)], axis=1)\n",
    "        return fold(res, (m, n, q), mode)\n",
    "\n"
   ]
  },
  {
   "cell_type": "code",
   "execution_count": 8,
   "metadata": {},
   "outputs": [
    {
     "data": {
      "text/plain": [
       "array([[[-1., -2., -3., -4.]],\n",
       "\n",
       "       [[ 2.,  4.,  6.,  8.]]])"
      ]
     },
     "execution_count": 8,
     "metadata": {},
     "output_type": "execute_result"
    }
   ],
   "source": [
    "a = np.array([[-1],[2]])\n",
    "b = np.array([[\n",
    "    [1,2,3,4]\n",
    "]])\n",
    "\n",
    "multiply(b, a, 1)"
   ]
  },
  {
   "cell_type": "code",
   "execution_count": 349,
   "metadata": {},
   "outputs": [],
   "source": [
    "def read_data(train_test):\n",
    "    images = defaultdict(list)\n",
    "    subject_name = 0\n",
    "    for i in os.listdir(f'YALE_faces/{train_test}/'):\n",
    "        if train_test == 'test':\n",
    "            subject_name += 1\n",
    "        else:\n",
    "            subject_name = int(i.split('.')[0][-2:])\n",
    "        image = Image.open(f'YALE_faces/{train_test}/{i}')\n",
    "        image_array = np.array(image)\n",
    "        image_array = image_array.flatten('F')\n",
    "        images[subject_name].append(image_array)\n",
    "    return images"
   ]
  },
  {
   "cell_type": "code",
   "execution_count": 238,
   "metadata": {},
   "outputs": [],
   "source": [
    "def create_images_tensor(images):\n",
    "    images_tensor = []\n",
    "    for key, value in images.items() :\n",
    "        stacked_sublist = np.stack(value, axis=1)\n",
    "        images_tensor.append(stacked_sublist)\n",
    "    tensor = np.stack(images_tensor, axis=0)\n",
    "    return tensor\n",
    "        "
   ]
  },
  {
   "cell_type": "code",
   "execution_count": 203,
   "metadata": {},
   "outputs": [],
   "source": [
    "def change_shape_tensor(array):\n",
    "    transposed_array = np.transpose(array, (1, 0, 2))\n",
    "    reshaped_array = np.reshape(transposed_array, (array.shape[1], array.shape[0], -1))\n",
    "    return np.transpose(reshaped_array, (0,2,1))"
   ]
  },
  {
   "cell_type": "code",
   "execution_count": 457,
   "metadata": {},
   "outputs": [],
   "source": [
    "def HOSVD(images_tensor):\n",
    "    m, n, d = images_tensor.shape\n",
    "    unfold_1 = unfold(images_tensor, mode=1)\n",
    "    unfold_2 = unfold(images_tensor, mode=2)\n",
    "    unfold_3 = unfold(images_tensor, mode=3)\n",
    "\n",
    "    u1, s1, v1 = svd(unfold_1, full_matrices=False)\n",
    "    u2, s2, v2 = svd(unfold_2, full_matrices=False)\n",
    "    u3, s3, v3 = svd(unfold_3, full_matrices=False)\n",
    "\n",
    "    au1 = multiply(images_tensor, u1.T, mode=1)\n",
    "    au2 = multiply(au1, u2.T, mode=2)\n",
    "    au3 = multiply(au2, u3.T, mode=3)\n",
    "    return au3, u1, u2, u3"
   ]
  },
  {
   "cell_type": "code",
   "execution_count": 495,
   "metadata": {},
   "outputs": [],
   "source": [
    "images = read_data('train')\n",
    "images_tensor = create_images_tensor(images)\n",
    "images_tensor = change_shape_tensor(images_tensor)\n",
    "\n",
    "images_test = read_data('test')"
   ]
  },
  {
   "cell_type": "code",
   "execution_count": 496,
   "metadata": {},
   "outputs": [
    {
     "data": {
      "text/plain": [
       "(77760, 10, 14)"
      ]
     },
     "execution_count": 496,
     "metadata": {},
     "output_type": "execute_result"
    }
   ],
   "source": [
    "images_tensor.shape"
   ]
  },
  {
   "cell_type": "code",
   "execution_count": 458,
   "metadata": {},
   "outputs": [
    {
     "data": {
      "text/plain": [
       "(140, 10, 14)"
      ]
     },
     "execution_count": 458,
     "metadata": {},
     "output_type": "execute_result"
    }
   ],
   "source": [
    "A, C, H, F = HOSVD(images_tensor)\n",
    "A.shape"
   ]
  },
  {
   "cell_type": "code",
   "execution_count": 460,
   "metadata": {},
   "outputs": [],
   "source": [
    "Ae = multiply (A, C, mode = 1)\n",
    "Ae = multiply (Ae, H, mode = 2)"
   ]
  },
  {
   "cell_type": "code",
   "execution_count": 499,
   "metadata": {},
   "outputs": [
    {
     "data": {
      "text/plain": [
       "(77760, 10, 14)"
      ]
     },
     "execution_count": 499,
     "metadata": {},
     "output_type": "execute_result"
    }
   ],
   "source": [
    "Ae.shape"
   ]
  },
  {
   "cell_type": "code",
   "execution_count": 462,
   "metadata": {},
   "outputs": [],
   "source": [
    "results = defaultdict(list)\n",
    "for key, value in images_test.items():\n",
    "    if key != 0:\n",
    "        alpha = []\n",
    "        for j in range(10):\n",
    "            x, residuals, rank, singular_values = lstsq(Ae[:, j, :], np.array(value[0]), rcond=None)\n",
    "            alpha.append(x)\n",
    "        for i in range(14):\n",
    "            results[key].append(min(norm(np.array(alpha) - F.T[:,i], axis = 1))) "
   ]
  },
  {
   "cell_type": "code",
   "execution_count": 486,
   "metadata": {},
   "outputs": [],
   "source": [
    "results_index = defaultdict(list)\n",
    "for key, value in results.items():\n",
    "    if min(value) <= 0.6:\n",
    "        results_index[key] = value.index(min(value))\n",
    "    else: \n",
    "        results_index[key] = -1"
   ]
  },
  {
   "cell_type": "code",
   "execution_count": 493,
   "metadata": {},
   "outputs": [],
   "source": [
    "y_test = [0, 1, 2, 3, 4, 5, 6, 7, 8, 9, 10, 11, 12, 13, -1, -1, -1, -1, -1, -1, -1, -1, -1, -1, -1]\n",
    "y_pred = list(results_index.values())"
   ]
  },
  {
   "cell_type": "code",
   "execution_count": 500,
   "metadata": {},
   "outputs": [
    {
     "data": {
      "text/plain": [
       "[0,\n",
       " 1,\n",
       " 2,\n",
       " 3,\n",
       " 4,\n",
       " 5,\n",
       " 6,\n",
       " 7,\n",
       " -1,\n",
       " -1,\n",
       " 10,\n",
       " 11,\n",
       " 12,\n",
       " 13,\n",
       " -1,\n",
       " 6,\n",
       " -1,\n",
       " 6,\n",
       " -1,\n",
       " -1,\n",
       " -1,\n",
       " -1,\n",
       " -1,\n",
       " -1,\n",
       " -1]"
      ]
     },
     "execution_count": 500,
     "metadata": {},
     "output_type": "execute_result"
    }
   ],
   "source": [
    "y_pred"
   ]
  },
  {
   "cell_type": "code",
   "execution_count": 494,
   "metadata": {},
   "outputs": [
    {
     "data": {
      "text/plain": [
       "0.84"
      ]
     },
     "execution_count": 494,
     "metadata": {},
     "output_type": "execute_result"
    }
   ],
   "source": [
    "accuracy_score(y_test, y_pred)"
   ]
  },
  {
   "cell_type": "code",
   "execution_count": null,
   "metadata": {},
   "outputs": [],
   "source": []
  }
 ],
 "metadata": {
  "kernelspec": {
   "display_name": "base",
   "language": "python",
   "name": "python3"
  },
  "language_info": {
   "codemirror_mode": {
    "name": "ipython",
    "version": 3
   },
   "file_extension": ".py",
   "mimetype": "text/x-python",
   "name": "python",
   "nbconvert_exporter": "python",
   "pygments_lexer": "ipython3",
   "version": "3.9.12"
  }
 },
 "nbformat": 4,
 "nbformat_minor": 2
}
